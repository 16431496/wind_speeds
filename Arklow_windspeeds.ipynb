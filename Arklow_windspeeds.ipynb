{
 "cells": [
  {
   "cell_type": "code",
   "execution_count": 14,
   "metadata": {},
   "outputs": [],
   "source": [
    "import pandas as pd\n",
    "import numpy as np\n",
    "import math\n",
    "import matplotlib.pyplot as plt\n",
    "import datetime as dt\n",
    "\n",
    "\n",
    "dfws1 = pd.read_csv(r'C:\\Users\\09ant\\Documents\\College\\Masters\\5th Year\\Thesis\\Models & Data\\Conversion Models\\shape\\Wicklow_Town_shape.csv', index_col=0)\n",
    "dfws2 = pd.read_csv(r'C:\\Users\\09ant\\Documents\\College\\Masters\\5th Year\\Thesis\\Models & Data\\Conversion Models\\shape\\Kilmuckridge_shape.csv', index_col=0)\n",
    "\n",
    "\n",
    "\n",
    "dfws = pd.DataFrame(dfws1.index)\n",
    "dfws['wicklow'] = dfws1['2020_windspeed'].tolist()\n",
    "dfws['kilmuckridge'] = dfws2['2020_windspeed'].tolist()\n",
    "\n",
    "dfws['2020_windspeed'] = (dfws['wicklow'] + dfws['kilmuckridge'])/2\n",
    "\n",
    "dfws = dfws.drop(['wicklow','kilmuckridge'],axis=1)\n",
    "\n",
    "dfws = dfws.set_index('Date')\n",
    "\n",
    "dfws.to_csv('Arklow_shape.csv')"
   ]
  },
  {
   "cell_type": "code",
   "execution_count": 15,
   "metadata": {},
   "outputs": [
    {
     "data": {
      "text/plain": [
       "2020_windspeed    6.63122\n",
       "dtype: float64"
      ]
     },
     "execution_count": 15,
     "metadata": {},
     "output_type": "execute_result"
    }
   ],
   "source": [
    "dfws.mean()"
   ]
  },
  {
   "cell_type": "code",
   "execution_count": null,
   "metadata": {},
   "outputs": [],
   "source": []
  }
 ],
 "metadata": {
  "kernelspec": {
   "display_name": "Python 3",
   "language": "python",
   "name": "python3"
  },
  "language_info": {
   "codemirror_mode": {
    "name": "ipython",
    "version": 3
   },
   "file_extension": ".py",
   "mimetype": "text/x-python",
   "name": "python",
   "nbconvert_exporter": "python",
   "pygments_lexer": "ipython3",
   "version": "3.7.4"
  }
 },
 "nbformat": 4,
 "nbformat_minor": 2
}
