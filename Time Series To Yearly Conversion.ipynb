{
 "cells": [
  {
   "cell_type": "code",
   "execution_count": 1,
   "metadata": {},
   "outputs": [],
   "source": [
    "import pandas as pd\n",
    "import datetime as dt\n",
    "import numpy as np\n",
    "from dateutil.relativedelta import relativedelta\n",
    "import matplotlib\n",
    "import matplotlib.pyplot as plt\n"
   ]
  },
  {
   "cell_type": "code",
   "execution_count": 2,
   "metadata": {},
   "outputs": [
    {
     "name": "stdout",
     "output_type": "stream",
     "text": [
      "Dundalk, Swords, Wicklow Town, Kilmuckridge, Rosslare Habour, Dunmore East, Dungarven \n",
      "Where is the wind farm being constructed near?: \n",
      "Dundalk\n"
     ]
    },
    {
     "data": {
      "text/html": [
       "<div>\n",
       "<style scoped>\n",
       "    .dataframe tbody tr th:only-of-type {\n",
       "        vertical-align: middle;\n",
       "    }\n",
       "\n",
       "    .dataframe tbody tr th {\n",
       "        vertical-align: top;\n",
       "    }\n",
       "\n",
       "    .dataframe thead th {\n",
       "        text-align: right;\n",
       "    }\n",
       "</style>\n",
       "<table border=\"1\" class=\"dataframe\">\n",
       "  <thead>\n",
       "    <tr style=\"text-align: right;\">\n",
       "      <th></th>\n",
       "      <th>windspeed</th>\n",
       "    </tr>\n",
       "  </thead>\n",
       "  <tbody>\n",
       "    <tr>\n",
       "      <td>2010-01-01 00:00:00</td>\n",
       "      <td>3.613687</td>\n",
       "    </tr>\n",
       "    <tr>\n",
       "      <td>2010-01-01 01:00:00</td>\n",
       "      <td>3.515852</td>\n",
       "    </tr>\n",
       "    <tr>\n",
       "      <td>2010-01-01 02:00:00</td>\n",
       "      <td>3.579147</td>\n",
       "    </tr>\n",
       "    <tr>\n",
       "      <td>2010-01-01 03:00:00</td>\n",
       "      <td>3.789259</td>\n",
       "    </tr>\n",
       "    <tr>\n",
       "      <td>2010-01-01 04:00:00</td>\n",
       "      <td>3.934088</td>\n",
       "    </tr>\n",
       "    <tr>\n",
       "      <td>...</td>\n",
       "      <td>...</td>\n",
       "    </tr>\n",
       "    <tr>\n",
       "      <td>2020-12-31 19:00:00</td>\n",
       "      <td>8.149808</td>\n",
       "    </tr>\n",
       "    <tr>\n",
       "      <td>2020-12-31 20:00:00</td>\n",
       "      <td>8.109868</td>\n",
       "    </tr>\n",
       "    <tr>\n",
       "      <td>2020-12-31 21:00:00</td>\n",
       "      <td>7.775813</td>\n",
       "    </tr>\n",
       "    <tr>\n",
       "      <td>2020-12-31 22:00:00</td>\n",
       "      <td>7.523922</td>\n",
       "    </tr>\n",
       "    <tr>\n",
       "      <td>2020-12-31 23:00:00</td>\n",
       "      <td>7.508400</td>\n",
       "    </tr>\n",
       "  </tbody>\n",
       "</table>\n",
       "<p>96432 rows × 1 columns</p>\n",
       "</div>"
      ],
      "text/plain": [
       "                     windspeed\n",
       "2010-01-01 00:00:00   3.613687\n",
       "2010-01-01 01:00:00   3.515852\n",
       "2010-01-01 02:00:00   3.579147\n",
       "2010-01-01 03:00:00   3.789259\n",
       "2010-01-01 04:00:00   3.934088\n",
       "...                        ...\n",
       "2020-12-31 19:00:00   8.149808\n",
       "2020-12-31 20:00:00   8.109868\n",
       "2020-12-31 21:00:00   7.775813\n",
       "2020-12-31 22:00:00   7.523922\n",
       "2020-12-31 23:00:00   7.508400\n",
       "\n",
       "[96432 rows x 1 columns]"
      ]
     },
     "execution_count": 2,
     "metadata": {},
     "output_type": "execute_result"
    }
   ],
   "source": [
    "print('Dundalk, Swords, Wicklow Town, Kilmuckridge, Rosslare Habour, Dunmore East, Dungarven ')\n",
    "print('Where is the wind farm being constructed near?: ')\n",
    "name_wf = input(str())\n",
    "\n",
    "if name_wf == 'Dundalk':\n",
    "    name_wf = '\\dundalk_ws.csv'\n",
    "elif name_wf == 'Swords':\n",
    "    name_wf = '\\swords_ws.csv'\n",
    "elif name_wf == 'Wicklow Town':\n",
    "    name_wf = '\\wicklow_town_ws.csv'\n",
    "elif name_wf == 'Kilmuckridge':\n",
    "    name_wf = '\\kilmuckridge_ws.csv'\n",
    "elif name_wf == 'Rosslare Habour':\n",
    "    name_wf = '\\\\rosslare_habour_sea_ws.csv'\n",
    "elif name_wf == 'Dunmore East':\n",
    "    name_wf = '\\dunmoreeast_sea_ws.csv'\n",
    "elif name_wf == 'Dungarven':\n",
    "    name_wf = '\\dungarven_sea_ws.csv'\n",
    "\n",
    "    \n",
    "    \n",
    "#df = pd.read_csv('')  #Uncomment and add csv here\n",
    "df = pd.read_csv(r'C:\\Users\\09ant\\Documents\\College\\Masters\\5th Year\\Thesis\\Models & Data\\Wind Turbine Output Model\\wind_speeds'+name_wf, index_col=0)\n",
    "\n",
    "\n",
    "df.columns = ['windspeed']\n",
    "\n",
    "\n",
    "\n",
    "#df = pd.read_csv(r'C:\\Users\\09ant\\Documents\\College\\Masters\\5th Year\\Thesis\\Models & Data\\Conversion Models\\time series to yearly'+name_wf, index_col=0)\n",
    "\n",
    "\n",
    "\n",
    "#df = pd.read_csv(r'C:\\Users\\09ant\\Documents\\College\\Masters\\5th Year\\Thesis\\Models & Data\\Total Data Analysis and Neg Price Model\\IE_data.csv', index_col=0)\n",
    "\n",
    "\n",
    "\n",
    "\n",
    "df.index = pd.to_datetime(df.index)\n",
    "df"
   ]
  },
  {
   "cell_type": "code",
   "execution_count": 3,
   "metadata": {},
   "outputs": [
    {
     "name": "stdout",
     "output_type": "stream",
     "text": [
      "What is the starting year of your data?: \n",
      "2010\n",
      "What is the ending year of your data?:\n",
      "2020\n",
      "What is the name for this data?: \n",
      "e\n"
     ]
    }
   ],
   "source": [
    "print('What is the starting year of your data?: ')\n",
    "s_year = input(str())\n",
    "s_year = int(s_year)\n",
    "\n",
    "\n",
    "print('What is the ending year of your data?:')\n",
    "e_year = input(str())\n",
    "e_year = int(e_year)\n",
    "\n",
    "diff_year = e_year - s_year\n",
    "\n",
    "print('What is the name for this data?: ')\n",
    "name = input(str())"
   ]
  },
  {
   "cell_type": "code",
   "execution_count": 4,
   "metadata": {},
   "outputs": [],
   "source": [
    "df_da = pd.DataFrame()\n",
    "data = pd.date_range('1/1/2000', periods = 8784, freq ='H')\n",
    "data_list = data.tolist()\n",
    "df_da['Date'] = data_list\n",
    "df_da = df_da.set_index('Date') \n",
    "    \n",
    "for k in range(0, len(df.columns)):\n",
    "    for year in range(s_year,e_year+1):  \n",
    "        if year%4 != 0:\n",
    "\n",
    "            dfa = pd.DataFrame()\n",
    "            dfa = df.loc[(df.index>=dt.datetime(year,1,1)) & (df.index<dt.datetime(year+1,1,1))].iloc[::,k]\n",
    "            year_list = dfa.tolist()\n",
    "\n",
    "            for i in range(1416,1440):\n",
    "                year_list.insert(i, np.nan)\n",
    "\n",
    "            df_da[str(year)+'_'+df.columns[k]] = year_list \n",
    "\n",
    "        elif year%4 == 0:\n",
    "\n",
    "            dfa = pd.DataFrame()\n",
    "            dfa = df.loc[(df.index>=dt.datetime(year,1,1)) & (df.index<dt.datetime(year+1,1,1))].iloc[::,k]\n",
    "            year_list = dfa.tolist()\n",
    "\n",
    "            df_da[str(year)+'_'+df.columns[k]] = year_list \n",
    "\n",
    "# df_da.to_csv(name+'_data.csv')            \n",
    "            \n"
   ]
  },
  {
   "cell_type": "code",
   "execution_count": 5,
   "metadata": {},
   "outputs": [
    {
     "ename": "NameError",
     "evalue": "name 'df_save' is not defined",
     "output_type": "error",
     "traceback": [
      "\u001b[1;31m---------------------------------------------------------------------------\u001b[0m",
      "\u001b[1;31mNameError\u001b[0m                                 Traceback (most recent call last)",
      "\u001b[1;32m<ipython-input-5-6fb677ce6776>\u001b[0m in \u001b[0;36m<module>\u001b[1;34m\u001b[0m\n\u001b[1;32m----> 1\u001b[1;33m \u001b[0mdf_save\u001b[0m\u001b[1;33m\u001b[0m\u001b[1;33m\u001b[0m\u001b[0m\n\u001b[0m",
      "\u001b[1;31mNameError\u001b[0m: name 'df_save' is not defined"
     ]
    }
   ],
   "source": [
    "df_da"
   ]
  },
  {
   "cell_type": "code",
   "execution_count": null,
   "metadata": {},
   "outputs": [],
   "source": []
  }
 ],
 "metadata": {
  "kernelspec": {
   "display_name": "Python 3",
   "language": "python",
   "name": "python3"
  },
  "language_info": {
   "codemirror_mode": {
    "name": "ipython",
    "version": 3
   },
   "file_extension": ".py",
   "mimetype": "text/x-python",
   "name": "python",
   "nbconvert_exporter": "python",
   "pygments_lexer": "ipython3",
   "version": "3.7.4"
  }
 },
 "nbformat": 4,
 "nbformat_minor": 2
}
